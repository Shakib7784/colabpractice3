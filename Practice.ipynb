{
 "cells": [
  {
   "cell_type": "code",
   "execution_count": null,
   "metadata": {
    "id": "5CC3oI7AkA3s"
   },
   "outputs": [],
   "source": []
  },
  {
   "cell_type": "code",
   "execution_count": 6,
   "metadata": {
    "colab": {
     "base_uri": "https://localhost:8080/"
    },
    "id": "86DHWOwnlDu9",
    "outputId": "b3888c8e-f715-47a6-bf7f-3a491a027284"
   },
   "outputs": [
    {
     "name": "stdout",
     "output_type": "stream",
     "text": [
      "📚 Recommendations for: Deep Learning for NLP\n",
      "➡️ Natural Language Processing with Transformers\n",
      "➡️ Machine Learning Applications in Education\n",
      "➡️ Education Technology and AI\n"
     ]
    }
   ],
   "source": [
    "# Step 1: Install & import dependencies\n",
    "import pandas as pd\n",
    "from sklearn.feature_extraction.text import TfidfVectorizer\n",
    "from sklearn.metrics.pairwise import cosine_similarity\n",
    "\n",
    "# Step 2: Sample dataset of academic paper abstracts\n",
    "data = {\n",
    "    'title': [\n",
    "        'Deep Learning for NLP',\n",
    "        'Machine Learning Applications in Education',\n",
    "        'Natural Language Processing with Transformers',\n",
    "        'Education Technology and AI',\n",
    "        'Quantum Computing Basics'\n",
    "    ],\n",
    "    'abstract': [\n",
    "        'This paper explores deep learning models in natural language processing tasks.',\n",
    "        'Applications of ML in classroom environments and personalized learning.',\n",
    "        'Using transformer models like BERT for advanced NLP tasks.',\n",
    "        'AI-driven educational platforms and analytics tools in modern classrooms.',\n",
    "        'Introduction to the concepts and applications of quantum computing.'\n",
    "    ]\n",
    "}\n",
    "\n",
    "df = pd.DataFrame(data)\n",
    "\n",
    "# Step 3: Combine title and abstract\n",
    "df['content'] = df['title'] + ' ' + df['abstract']\n",
    "\n",
    "# Step 4: Vectorize using TF-IDF\n",
    "vectorizer = TfidfVectorizer(stop_words='english')\n",
    "tfidf_matrix = vectorizer.fit_transform(df['content'])\n",
    "\n",
    "# Step 5: Compute cosine similarity\n",
    "cosine_sim = cosine_similarity(tfidf_matrix, tfidf_matrix)\n",
    "\n",
    "# Step 6: Recommendation function\n",
    "def recommend(title, top_n=3):\n",
    "    idx = df[df['title'] == title].index[0]\n",
    "    sim_scores = list(enumerate(cosine_sim[idx]))\n",
    "    sim_scores = sorted(sim_scores, key=lambda x: x[1], reverse=True)\n",
    "    sim_scores = sim_scores[1:top_n+1]\n",
    "    recommended_titles = [df['title'][i[0]] for i in sim_scores]\n",
    "    return recommended_titles\n",
    "\n",
    "# Step 7: Try it!\n",
    "paper = 'Deep Learning for NLP'\n",
    "print(f\"📚 Recommendations for: {paper}\")\n",
    "for rec in recommend(paper):\n",
    "    print(\"➡️\", rec)\n"
   ]
  },
  {
   "cell_type": "code",
   "execution_count": 7,
   "metadata": {
    "colab": {
     "base_uri": "https://localhost:8080/",
     "height": 147,
     "referenced_widgets": [
      "147da5b85c0549bc9dde259f9af5d539",
      "c0ee73b826cb4037a480f4591b1763ca",
      "c03b911fce774ede8a3ad2df64c262c0",
      "f9a1bdce29b6413492a8e99d33a12449",
      "899f0042faf84e10aca5a2a92c0c9d4e",
      "b4b83698607445f1a1700d49e63efe58",
      "7f1cce2cb07a4e2aaf8ec96bd75de0c5",
      "d420fde326ec467da8e72f59a431073d"
     ]
    },
    "id": "11KuguFwlEQe",
    "outputId": "bf20c9a3-d854-4dd4-83f2-76865fe1188d"
   },
   "outputs": [
    {
     "data": {
      "application/vnd.jupyter.widget-view+json": {
       "model_id": "147da5b85c0549bc9dde259f9af5d539",
       "version_major": 2,
       "version_minor": 0
      },
      "text/plain": [
       "Dropdown(description='Select paper:', layout=Layout(width='50%'), options=('Deep Learning for NLP', 'Machine L…"
      ]
     },
     "metadata": {},
     "output_type": "display_data"
    },
    {
     "data": {
      "application/vnd.jupyter.widget-view+json": {
       "model_id": "f9a1bdce29b6413492a8e99d33a12449",
       "version_major": 2,
       "version_minor": 0
      },
      "text/plain": [
       "Button(button_style='success', description='Get Recommendations', style=ButtonStyle())"
      ]
     },
     "metadata": {},
     "output_type": "display_data"
    },
    {
     "data": {
      "application/vnd.jupyter.widget-view+json": {
       "model_id": "7f1cce2cb07a4e2aaf8ec96bd75de0c5",
       "version_major": 2,
       "version_minor": 0
      },
      "text/plain": [
       "Output()"
      ]
     },
     "metadata": {},
     "output_type": "display_data"
    }
   ],
   "source": [
    "# Install widgets support (only needed once)\n",
    "!pip install ipywidgets --quiet\n",
    "\n",
    "import ipywidgets as widgets\n",
    "from IPython.display import display, Markdown\n",
    "\n",
    "# Dropdown for titles\n",
    "title_dropdown = widgets.Dropdown(\n",
    "    options=df['title'].tolist(),\n",
    "    description='Select paper:',\n",
    "    style={'description_width': 'initial'},\n",
    "    layout=widgets.Layout(width='50%')\n",
    ")\n",
    "\n",
    "# Button to trigger recommendation\n",
    "button = widgets.Button(description=\"Get Recommendations\", button_style='success')\n",
    "\n",
    "# Output area\n",
    "output = widgets.Output()\n",
    "\n",
    "# Button click action\n",
    "def on_button_clicked(b):\n",
    "    with output:\n",
    "        output.clear_output()\n",
    "        selected_title = title_dropdown.value\n",
    "        recs = recommend(selected_title)\n",
    "        display(Markdown(f\"### 📚 Recommendations for: *{selected_title}*\"))\n",
    "        for r in recs:\n",
    "            display(Markdown(f\"- {r}\"))\n",
    "\n",
    "button.on_click(on_button_clicked)\n",
    "\n",
    "# Display UI\n",
    "display(title_dropdown, button, output)\n",
    "\n",
    "\n"
   ]
  },
  {
   "cell_type": "code",
   "execution_count": 7,
   "metadata": {
    "id": "mDf0AYB6jphD"
   },
   "outputs": [],
   "source": []
  },
  {
   "cell_type": "markdown",
   "metadata": {
    "id": "Uc6TM02alCYA"
   },
   "source": []
  }
 ],
 "metadata": {
  "colab": {
   "provenance": []
  },
  "kernelspec": {
   "display_name": "Python 3",
   "name": "python3"
  },
  "language_info": {
   "name": "python"
  },
  "widgets": {
   "application/vnd.jupyter.widget-state+json": {
    "147da5b85c0549bc9dde259f9af5d539": {
     "model_module": "@jupyter-widgets/controls",
     "model_module_version": "1.5.0",
     "model_name": "DropdownModel",
     "state": {
      "_dom_classes": [],
      "_model_module": "@jupyter-widgets/controls",
      "_model_module_version": "1.5.0",
      "_model_name": "DropdownModel",
      "_options_labels": [
       "Deep Learning for NLP",
       "Machine Learning Applications in Education",
       "Natural Language Processing with Transformers",
       "Education Technology and AI",
       "Quantum Computing Basics"
      ],
      "_view_count": null,
      "_view_module": "@jupyter-widgets/controls",
      "_view_module_version": "1.5.0",
      "_view_name": "DropdownView",
      "description": "Select paper:",
      "description_tooltip": null,
      "disabled": false,
      "index": 2,
      "layout": "IPY_MODEL_c0ee73b826cb4037a480f4591b1763ca",
      "style": "IPY_MODEL_c03b911fce774ede8a3ad2df64c262c0"
     }
    },
    "7f1cce2cb07a4e2aaf8ec96bd75de0c5": {
     "model_module": "@jupyter-widgets/output",
     "model_module_version": "1.0.0",
     "model_name": "OutputModel",
     "state": {
      "_dom_classes": [],
      "_model_module": "@jupyter-widgets/output",
      "_model_module_version": "1.0.0",
      "_model_name": "OutputModel",
      "_view_count": null,
      "_view_module": "@jupyter-widgets/output",
      "_view_module_version": "1.0.0",
      "_view_name": "OutputView",
      "layout": "IPY_MODEL_d420fde326ec467da8e72f59a431073d",
      "msg_id": "",
      "outputs": [
       {
        "data": {
         "text/markdown": "### 📚 Recommendations for: *Natural Language Processing with Transformers*",
         "text/plain": "<IPython.core.display.Markdown object>"
        },
        "metadata": {},
        "output_type": "display_data"
       },
       {
        "data": {
         "text/markdown": "- Deep Learning for NLP",
         "text/plain": "<IPython.core.display.Markdown object>"
        },
        "metadata": {},
        "output_type": "display_data"
       },
       {
        "data": {
         "text/markdown": "- Machine Learning Applications in Education",
         "text/plain": "<IPython.core.display.Markdown object>"
        },
        "metadata": {},
        "output_type": "display_data"
       },
       {
        "data": {
         "text/markdown": "- Education Technology and AI",
         "text/plain": "<IPython.core.display.Markdown object>"
        },
        "metadata": {},
        "output_type": "display_data"
       }
      ]
     }
    },
    "899f0042faf84e10aca5a2a92c0c9d4e": {
     "model_module": "@jupyter-widgets/base",
     "model_module_version": "1.2.0",
     "model_name": "LayoutModel",
     "state": {
      "_model_module": "@jupyter-widgets/base",
      "_model_module_version": "1.2.0",
      "_model_name": "LayoutModel",
      "_view_count": null,
      "_view_module": "@jupyter-widgets/base",
      "_view_module_version": "1.2.0",
      "_view_name": "LayoutView",
      "align_content": null,
      "align_items": null,
      "align_self": null,
      "border": null,
      "bottom": null,
      "display": null,
      "flex": null,
      "flex_flow": null,
      "grid_area": null,
      "grid_auto_columns": null,
      "grid_auto_flow": null,
      "grid_auto_rows": null,
      "grid_column": null,
      "grid_gap": null,
      "grid_row": null,
      "grid_template_areas": null,
      "grid_template_columns": null,
      "grid_template_rows": null,
      "height": null,
      "justify_content": null,
      "justify_items": null,
      "left": null,
      "margin": null,
      "max_height": null,
      "max_width": null,
      "min_height": null,
      "min_width": null,
      "object_fit": null,
      "object_position": null,
      "order": null,
      "overflow": null,
      "overflow_x": null,
      "overflow_y": null,
      "padding": null,
      "right": null,
      "top": null,
      "visibility": null,
      "width": null
     }
    },
    "b4b83698607445f1a1700d49e63efe58": {
     "model_module": "@jupyter-widgets/controls",
     "model_module_version": "1.5.0",
     "model_name": "ButtonStyleModel",
     "state": {
      "_model_module": "@jupyter-widgets/controls",
      "_model_module_version": "1.5.0",
      "_model_name": "ButtonStyleModel",
      "_view_count": null,
      "_view_module": "@jupyter-widgets/base",
      "_view_module_version": "1.2.0",
      "_view_name": "StyleView",
      "button_color": null,
      "font_weight": ""
     }
    },
    "c03b911fce774ede8a3ad2df64c262c0": {
     "model_module": "@jupyter-widgets/controls",
     "model_module_version": "1.5.0",
     "model_name": "DescriptionStyleModel",
     "state": {
      "_model_module": "@jupyter-widgets/controls",
      "_model_module_version": "1.5.0",
      "_model_name": "DescriptionStyleModel",
      "_view_count": null,
      "_view_module": "@jupyter-widgets/base",
      "_view_module_version": "1.2.0",
      "_view_name": "StyleView",
      "description_width": "initial"
     }
    },
    "c0ee73b826cb4037a480f4591b1763ca": {
     "model_module": "@jupyter-widgets/base",
     "model_module_version": "1.2.0",
     "model_name": "LayoutModel",
     "state": {
      "_model_module": "@jupyter-widgets/base",
      "_model_module_version": "1.2.0",
      "_model_name": "LayoutModel",
      "_view_count": null,
      "_view_module": "@jupyter-widgets/base",
      "_view_module_version": "1.2.0",
      "_view_name": "LayoutView",
      "align_content": null,
      "align_items": null,
      "align_self": null,
      "border": null,
      "bottom": null,
      "display": null,
      "flex": null,
      "flex_flow": null,
      "grid_area": null,
      "grid_auto_columns": null,
      "grid_auto_flow": null,
      "grid_auto_rows": null,
      "grid_column": null,
      "grid_gap": null,
      "grid_row": null,
      "grid_template_areas": null,
      "grid_template_columns": null,
      "grid_template_rows": null,
      "height": null,
      "justify_content": null,
      "justify_items": null,
      "left": null,
      "margin": null,
      "max_height": null,
      "max_width": null,
      "min_height": null,
      "min_width": null,
      "object_fit": null,
      "object_position": null,
      "order": null,
      "overflow": null,
      "overflow_x": null,
      "overflow_y": null,
      "padding": null,
      "right": null,
      "top": null,
      "visibility": null,
      "width": "50%"
     }
    },
    "d420fde326ec467da8e72f59a431073d": {
     "model_module": "@jupyter-widgets/base",
     "model_module_version": "1.2.0",
     "model_name": "LayoutModel",
     "state": {
      "_model_module": "@jupyter-widgets/base",
      "_model_module_version": "1.2.0",
      "_model_name": "LayoutModel",
      "_view_count": null,
      "_view_module": "@jupyter-widgets/base",
      "_view_module_version": "1.2.0",
      "_view_name": "LayoutView",
      "align_content": null,
      "align_items": null,
      "align_self": null,
      "border": null,
      "bottom": null,
      "display": null,
      "flex": null,
      "flex_flow": null,
      "grid_area": null,
      "grid_auto_columns": null,
      "grid_auto_flow": null,
      "grid_auto_rows": null,
      "grid_column": null,
      "grid_gap": null,
      "grid_row": null,
      "grid_template_areas": null,
      "grid_template_columns": null,
      "grid_template_rows": null,
      "height": null,
      "justify_content": null,
      "justify_items": null,
      "left": null,
      "margin": null,
      "max_height": null,
      "max_width": null,
      "min_height": null,
      "min_width": null,
      "object_fit": null,
      "object_position": null,
      "order": null,
      "overflow": null,
      "overflow_x": null,
      "overflow_y": null,
      "padding": null,
      "right": null,
      "top": null,
      "visibility": null,
      "width": null
     }
    },
    "f9a1bdce29b6413492a8e99d33a12449": {
     "model_module": "@jupyter-widgets/controls",
     "model_module_version": "1.5.0",
     "model_name": "ButtonModel",
     "state": {
      "_dom_classes": [],
      "_model_module": "@jupyter-widgets/controls",
      "_model_module_version": "1.5.0",
      "_model_name": "ButtonModel",
      "_view_count": null,
      "_view_module": "@jupyter-widgets/controls",
      "_view_module_version": "1.5.0",
      "_view_name": "ButtonView",
      "button_style": "success",
      "description": "Get Recommendations",
      "disabled": false,
      "icon": "",
      "layout": "IPY_MODEL_899f0042faf84e10aca5a2a92c0c9d4e",
      "style": "IPY_MODEL_b4b83698607445f1a1700d49e63efe58",
      "tooltip": ""
     }
    }
   },
   "state": {}
  }
 },
 "nbformat": 4,
 "nbformat_minor": 0
}
